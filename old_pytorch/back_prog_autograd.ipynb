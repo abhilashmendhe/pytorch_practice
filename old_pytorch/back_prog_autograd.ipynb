{
 "cells": [
  {
   "cell_type": "code",
   "execution_count": 1,
   "id": "3d67a4bd",
   "metadata": {},
   "outputs": [],
   "source": [
    "import torch\n",
    "from torch.autograd import Variable"
   ]
  },
  {
   "cell_type": "code",
   "execution_count": 2,
   "id": "6251eabf",
   "metadata": {},
   "outputs": [],
   "source": [
    "x_data = [1.0, 2.0, 3.0]\n",
    "y_data = [2.0, 4.0, 6.0]"
   ]
  },
  {
   "cell_type": "code",
   "execution_count": 3,
   "id": "f4f40229",
   "metadata": {},
   "outputs": [],
   "source": [
    "w = Variable(torch.Tensor([1.0]), requires_grad = True)"
   ]
  },
  {
   "cell_type": "code",
   "execution_count": 4,
   "id": "d9fc30e0",
   "metadata": {},
   "outputs": [],
   "source": [
    "# our model forward pass\n",
    "def forward(x):\n",
    "    return x * w\n",
    "\n",
    "# loss func\n",
    "def loss(x, y):\n",
    "    y_pred = forward(x)\n",
    "    return (y_pred - y) * (y_pred - y)"
   ]
  },
  {
   "cell_type": "code",
   "execution_count": 7,
   "id": "08c25a39",
   "metadata": {},
   "outputs": [
    {
     "name": "stdout",
     "output_type": "stream",
     "text": [
      "\t grad:  1.0 2.0 tensor(-0.0048)\n",
      "\t grad:  2.0 4.0 tensor(-0.0187)\n",
      "\t grad:  3.0 6.0 tensor(-0.0386)\n",
      "\t grad:  1.0 2.0 tensor(-0.0035)\n",
      "\t grad:  2.0 4.0 tensor(-0.0138)\n",
      "\t grad:  3.0 6.0 tensor(-0.0286)\n",
      "\t grad:  1.0 2.0 tensor(-0.0026)\n",
      "\t grad:  2.0 4.0 tensor(-0.0102)\n",
      "\t grad:  3.0 6.0 tensor(-0.0211)\n",
      "\t grad:  1.0 2.0 tensor(-0.0019)\n",
      "\t grad:  2.0 4.0 tensor(-0.0075)\n",
      "\t grad:  3.0 6.0 tensor(-0.0156)\n",
      "\t grad:  1.0 2.0 tensor(-0.0014)\n",
      "\t grad:  2.0 4.0 tensor(-0.0056)\n",
      "\t grad:  3.0 6.0 tensor(-0.0115)\n",
      "\t grad:  1.0 2.0 tensor(-0.0011)\n",
      "\t grad:  2.0 4.0 tensor(-0.0041)\n",
      "\t grad:  3.0 6.0 tensor(-0.0085)\n",
      "\t grad:  1.0 2.0 tensor(-0.0008)\n",
      "\t grad:  2.0 4.0 tensor(-0.0030)\n",
      "\t grad:  3.0 6.0 tensor(-0.0063)\n",
      "\t grad:  1.0 2.0 tensor(-0.0006)\n",
      "\t grad:  2.0 4.0 tensor(-0.0023)\n",
      "\t grad:  3.0 6.0 tensor(-0.0047)\n",
      "\t grad:  1.0 2.0 tensor(-0.0004)\n",
      "\t grad:  2.0 4.0 tensor(-0.0017)\n",
      "\t grad:  3.0 6.0 tensor(-0.0034)\n",
      "\t grad:  1.0 2.0 tensor(-0.0003)\n",
      "\t grad:  2.0 4.0 tensor(-0.0012)\n",
      "\t grad:  3.0 6.0 tensor(-0.0025)\n",
      "predict (after training) tensor(7.9995)\n"
     ]
    }
   ],
   "source": [
    "for epoch in range(10):\n",
    "    for x_val, y_val in zip(x_data, y_data):\n",
    "        l = loss(x_val, y_val)\n",
    "        l.backward()\n",
    "        print(\"\\t grad: \", x_val, y_val, w.grad.data[0])\n",
    "        w.data = w.data - 0.01 * w.grad.data[0]\n",
    "        \n",
    "        # mannually zero the gradients after updating htis\n",
    "        w.grad.data.zero_()\n",
    "print(\"predict (after training)\", forward(4).data[0])"
   ]
  },
  {
   "cell_type": "code",
   "execution_count": null,
   "id": "c078e3c7",
   "metadata": {},
   "outputs": [],
   "source": []
  }
 ],
 "metadata": {
  "kernelspec": {
   "display_name": "Python 3 (ipykernel)",
   "language": "python",
   "name": "python3"
  },
  "language_info": {
   "codemirror_mode": {
    "name": "ipython",
    "version": 3
   },
   "file_extension": ".py",
   "mimetype": "text/x-python",
   "name": "python",
   "nbconvert_exporter": "python",
   "pygments_lexer": "ipython3",
   "version": "3.8.12"
  }
 },
 "nbformat": 4,
 "nbformat_minor": 5
}
