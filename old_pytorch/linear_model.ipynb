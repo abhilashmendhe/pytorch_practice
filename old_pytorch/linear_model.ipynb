{
 "cells": [
  {
   "cell_type": "code",
   "execution_count": 22,
   "id": "723bf72a",
   "metadata": {},
   "outputs": [],
   "source": [
    "import torch\n",
    "import numpy as np\n",
    "import matplotlib.pyplot as plt"
   ]
  },
  {
   "cell_type": "code",
   "execution_count": 24,
   "id": "f4330571",
   "metadata": {},
   "outputs": [],
   "source": [
    "w = torch.tensor([3,2,5,8,1])\n",
    "w = torch.arange(0.1, 4.1, 0.1)\n",
    "x = [1, 3, 5]\n",
    "y = [2, 6, 8]"
   ]
  },
  {
   "cell_type": "code",
   "execution_count": 29,
   "id": "57ad06ed",
   "metadata": {},
   "outputs": [
    {
     "data": {
      "text/plain": [
       "[<matplotlib.lines.Line2D at 0x7fe50e841760>]"
      ]
     },
     "execution_count": 29,
     "metadata": {},
     "output_type": "execute_result"
    },
    {
     "data": {
      "image/png": "[encoded data removed]",
      "text/plain": [
       "<Figure size 432x288 with 1 Axes>"
      ]
     },
     "metadata": {
      "needs_background": "light"
     },
     "output_type": "display_data"
    }
   ],
   "source": [
    "loss_vector = []\n",
    "for i in range(w.size()[0]):\n",
    "    l_sum = 0\n",
    "    for x_val, y_val in zip(x,y):\n",
    "        expected_y = w[i] * x_val\n",
    "        loss = (expected_y - y_val) * (expected_y - y_val)\n",
    "        l_sum += loss\n",
    "    l_sum = l_sum / 3\n",
    "#     if l_sum > 0:\n",
    "    loss_vector.append(l_sum)\n",
    "#     print(l_sum)\n",
    "#     print(\"\")\n",
    "plt.plot(loss_vector)"
   ]
  },
  {
   "cell_type": "code",
   "execution_count": null,
   "id": "1a44351c",
   "metadata": {},
   "outputs": [],
   "source": [
    "# Now gradient"
   ]
  },
  {
   "cell_type": "code",
   "execution_count": null,
   "id": "7d3aed8f",
   "metadata": {},
   "outputs": [],
   "source": [
    "loss_vector = []\n",
    "for i in range(w.size()[0]):\n",
    "    l_sum = 0\n",
    "    for x_val, y_val in zip(x,y):\n",
    "        # calculated output y = w * x\n",
    "        expected_y = w[i] * x_val\n",
    "        # loss fn. (y - actual_y)^2\n",
    "        loss = (expected_y - y_val) * (expected_y - y_val)\n",
    "        l_sum += loss\n",
    "    l_sum = l_sum / 3\n",
    "#     if l_sum > 0:\n",
    "    loss_vector.append(l_sum)\n",
    "#     print(l_sum)\n",
    "#     print(\"\")\n",
    "plt.plot(loss_vector)"
   ]
  }
 ],
 "metadata": {
  "kernelspec": {
   "display_name": "Python 3 (ipykernel)",
   "language": "python",
   "name": "python3"
  },
  "language_info": {
   "codemirror_mode": {
    "name": "ipython",
    "version": 3
   },
   "file_extension": ".py",
   "mimetype": "text/x-python",
   "name": "python",
   "nbconvert_exporter": "python",
   "pygments_lexer": "ipython3",
   "version": "3.8.12"
  }
 },
 "nbformat": 4,
 "nbformat_minor": 5
}
