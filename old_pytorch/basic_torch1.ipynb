{
 "cells": [
  {
   "cell_type": "code",
   "execution_count": 2,
   "id": "cf320bd3",
   "metadata": {},
   "outputs": [],
   "source": [
    "import torch"
   ]
  },
  {
   "cell_type": "code",
   "execution_count": 3,
   "id": "61f5cea8",
   "metadata": {},
   "outputs": [
    {
     "data": {
      "text/plain": [
       "True"
      ]
     },
     "execution_count": 3,
     "metadata": {},
     "output_type": "execute_result"
    }
   ],
   "source": [
    "torch.cuda.is_available()"
   ]
  },
  {
   "cell_type": "code",
   "execution_count": 4,
   "id": "020c77bb",
   "metadata": {},
   "outputs": [],
   "source": [
    "x = torch.rand([3])"
   ]
  },
  {
   "cell_type": "code",
   "execution_count": 5,
   "id": "b8b48fd5",
   "metadata": {},
   "outputs": [
    {
     "data": {
      "text/plain": [
       "tensor([0.3184, 0.4409, 0.6194])"
      ]
     },
     "execution_count": 5,
     "metadata": {},
     "output_type": "execute_result"
    }
   ],
   "source": [
    "x"
   ]
  },
  {
   "cell_type": "code",
   "execution_count": 7,
   "id": "3216a263",
   "metadata": {},
   "outputs": [
    {
     "name": "stdout",
     "output_type": "stream",
     "text": [
      "tensor([3.4985e+03, 3.0785e-41, 3.1629e+03, 3.0785e-41])\n"
     ]
    }
   ],
   "source": [
    "# 1d vector\n",
    "\n",
    "x = torch.empty(4)\n",
    "print(x)"
   ]
  },
  {
   "cell_type": "code",
   "execution_count": 9,
   "id": "0cdd238f",
   "metadata": {},
   "outputs": [
    {
     "name": "stdout",
     "output_type": "stream",
     "text": [
      "tensor([[3.1628e+03, 3.0785e-41, 4.4096e+02],\n",
      "        [4.5780e-41, 8.9683e-44, 0.0000e+00]])\n"
     ]
    }
   ],
   "source": [
    "# 2d vector or matrix\n",
    "\n",
    "x = torch.empty(2,3)\n",
    "print(x)"
   ]
  },
  {
   "cell_type": "code",
   "execution_count": 11,
   "id": "c327af56",
   "metadata": {},
   "outputs": [
    {
     "name": "stdout",
     "output_type": "stream",
     "text": [
      "tensor([[[ 4.4097e+02,  4.5780e-41],\n",
      "         [ 3.2365e+03,  3.0785e-41],\n",
      "         [ 4.4842e-44,  0.0000e+00]],\n",
      "\n",
      "        [[ 1.5695e-43,  0.0000e+00],\n",
      "         [ 2.8702e-24,  3.0789e-41],\n",
      "         [ 0.0000e+00,  0.0000e+00]],\n",
      "\n",
      "        [[ 4.7561e+03,  3.0785e-41],\n",
      "         [ 1.0425e+03,  3.0785e-41],\n",
      "         [-2.6319e-21,  4.5779e-41]]])\n"
     ]
    }
   ],
   "source": [
    "# 3d tensor\n",
    "x = torch.empty(3,3,2)\n",
    "print(x)"
   ]
  },
  {
   "cell_type": "code",
   "execution_count": 14,
   "id": "92c0e3ef",
   "metadata": {},
   "outputs": [
    {
     "name": "stdout",
     "output_type": "stream",
     "text": [
      "tensor([[[[1.0268e-08, 1.0674e-08],\n",
      "          [5.3221e-05, 1.4580e-19],\n",
      "          [1.1495e+24, 3.0881e+29]],\n",
      "\n",
      "         [[1.5766e-19, 7.3313e+22],\n",
      "          [7.2151e+22, 2.8404e+29],\n",
      "          [2.3089e-12, 1.9421e+31]],\n",
      "\n",
      "         [[2.7491e+20, 6.1949e-04],\n",
      "          [1.0382e+21, 2.7256e+20],\n",
      "          [2.3080e-12, 7.1760e+22]]],\n",
      "\n",
      "\n",
      "        [[[7.2250e+28, 1.5766e-19],\n",
      "          [2.6845e+23, 1.6838e+22],\n",
      "          [4.1907e+21, 6.7197e-07]],\n",
      "\n",
      "         [[4.2002e-08, 4.1022e-08],\n",
      "          [8.5454e-07, 8.3813e-10],\n",
      "          [2.3050e-12, 2.6302e+20]],\n",
      "\n",
      "         [[6.1949e-04, 6.4805e-10],\n",
      "          [2.5203e-09, 2.5928e-09],\n",
      "          [6.8357e-04, 1.7340e-07]]]])\n"
     ]
    }
   ],
   "source": [
    "# 4d tensor\n",
    "x = torch.empty(2,3,3,2)\n",
    "print(x)"
   ]
  },
  {
   "cell_type": "code",
   "execution_count": 15,
   "id": "035fd05c",
   "metadata": {},
   "outputs": [
    {
     "name": "stdout",
     "output_type": "stream",
     "text": [
      "tensor([[1., 1.],\n",
      "        [1., 1.]], dtype=torch.float64)\n"
     ]
    }
   ],
   "source": [
    "x = torch.ones(2,2, dtype=torch.double)\n",
    "print(x)"
   ]
  },
  {
   "cell_type": "code",
   "execution_count": 17,
   "id": "8fa160c4",
   "metadata": {},
   "outputs": [
    {
     "name": "stdout",
     "output_type": "stream",
     "text": [
      "torch.Size([2, 2])\n"
     ]
    }
   ],
   "source": [
    "print(x.size())"
   ]
  },
  {
   "cell_type": "code",
   "execution_count": 18,
   "id": "047a2c04",
   "metadata": {},
   "outputs": [
    {
     "name": "stdout",
     "output_type": "stream",
     "text": [
      "tensor([2.5000, 0.1000])\n"
     ]
    }
   ],
   "source": [
    "x = torch.tensor([2.5,0.1])\n",
    "print(x)"
   ]
  },
  {
   "cell_type": "code",
   "execution_count": 19,
   "id": "94093b95",
   "metadata": {},
   "outputs": [
    {
     "name": "stdout",
     "output_type": "stream",
     "text": [
      "tensor([[0.7425, 0.4683],\n",
      "        [0.5505, 0.2539]])\n",
      "tensor([[0.4663, 0.7838],\n",
      "        [0.0581, 0.6330]])\n"
     ]
    }
   ],
   "source": [
    "x = torch.rand(2,2)\n",
    "y = torch.rand(2,2)\n",
    "print(x)\n",
    "print(y)"
   ]
  },
  {
   "cell_type": "code",
   "execution_count": 21,
   "id": "7f236d46",
   "metadata": {},
   "outputs": [
    {
     "name": "stdout",
     "output_type": "stream",
     "text": [
      "tensor([[1.2088, 1.2521],\n",
      "        [0.6086, 0.8869]])\n"
     ]
    }
   ],
   "source": [
    "# addition of two tensor\n",
    "\n",
    "z = x + y # torch.add(x,y)\n",
    "print(z)"
   ]
  },
  {
   "cell_type": "code",
   "execution_count": 22,
   "id": "cdaf42be",
   "metadata": {},
   "outputs": [
    {
     "name": "stdout",
     "output_type": "stream",
     "text": [
      "tensor([[1.2088, 1.2521],\n",
      "        [0.6086, 0.8869]])\n"
     ]
    }
   ],
   "source": [
    "y.add_(x) # added x to y and now y is modifies\n",
    "print(y) "
   ]
  },
  {
   "cell_type": "code",
   "execution_count": 23,
   "id": "d37072e4",
   "metadata": {},
   "outputs": [
    {
     "name": "stdout",
     "output_type": "stream",
     "text": [
      "tensor([[0.8976, 0.5863],\n",
      "        [0.3350, 0.2252]])\n"
     ]
    }
   ],
   "source": [
    "z = x * y # or torch.mul(x,y)\n",
    "z = x / y # or torch.div(x,y)"
   ]
  },
  {
   "cell_type": "code",
   "execution_count": 24,
   "id": "6474f306",
   "metadata": {},
   "outputs": [
    {
     "name": "stdout",
     "output_type": "stream",
     "text": [
      "tensor([[0.4593, 0.9883, 0.9714],\n",
      "        [0.9671, 0.0686, 0.1973],\n",
      "        [0.4746, 0.3532, 0.6010],\n",
      "        [0.4057, 0.5209, 0.2540],\n",
      "        [0.0081, 0.8096, 0.7337]])\n"
     ]
    }
   ],
   "source": [
    "x = torch.rand(5, 3)\n",
    "print(x)"
   ]
  },
  {
   "cell_type": "code",
   "execution_count": 37,
   "id": "a7b0eead",
   "metadata": {},
   "outputs": [
    {
     "name": "stdout",
     "output_type": "stream",
     "text": [
      "tensor([[0.9671, 0.0686],\n",
      "        [0.4746, 0.3532],\n",
      "        [0.4057, 0.5209]])\n"
     ]
    }
   ],
   "source": [
    "print(x[1:4,0:2])"
   ]
  },
  {
   "cell_type": "code",
   "execution_count": 38,
   "id": "f34eed47",
   "metadata": {},
   "outputs": [
    {
     "name": "stdout",
     "output_type": "stream",
     "text": [
      "tensor([[0.0339, 0.7003, 0.8970, 0.0538, 0.8693, 0.6959, 0.2815, 0.0093, 0.3167,\n",
      "         0.5673, 0.2697, 0.8987, 0.8317, 0.8950, 0.0814]])\n"
     ]
    }
   ],
   "source": [
    "x = torch.rand(5,3)\n",
    "x = x.view(1,15)\n",
    "print(x)"
   ]
  },
  {
   "cell_type": "code",
   "execution_count": 44,
   "id": "a07c6e9c",
   "metadata": {},
   "outputs": [
    {
     "name": "stdout",
     "output_type": "stream",
     "text": [
      "CPU times: user 30.6 s, sys: 79.9 ms, total: 30.7 s\n",
      "Wall time: 7.67 s\n"
     ]
    }
   ],
   "source": [
    "# on CPU matmul of 10000 x 10000\n",
    "\n",
    "x = torch.rand(10000,10000)\n",
    "y = torch.rand(10000,10000)\n",
    "%time z = torch.matmul(x,y)"
   ]
  },
  {
   "cell_type": "code",
   "execution_count": 48,
   "id": "fcc62732",
   "metadata": {},
   "outputs": [
    {
     "name": "stdout",
     "output_type": "stream",
     "text": [
      "CPU times: user 0 ns, sys: 807 µs, total: 807 µs\n",
      "Wall time: 811 µs\n"
     ]
    }
   ],
   "source": [
    "if torch.cuda.is_available():\n",
    "    device = torch.device(\"cuda\")\n",
    "    x = torch.rand(10000,10000).to(device)\n",
    "    y = torch.rand(10000,10000).to(device)\n",
    "    %time z = torch.matmul(x,y)\n",
    "    z = z.to(\"cpu\")\n",
    "    "
   ]
  },
  {
   "cell_type": "code",
   "execution_count": null,
   "id": "fe9d7477",
   "metadata": {},
   "outputs": [],
   "source": []
  }
 ],
 "metadata": {
  "kernelspec": {
   "display_name": "Python 3 (ipykernel)",
   "language": "python",
   "name": "python3"
  },
  "language_info": {
   "codemirror_mode": {
    "name": "ipython",
    "version": 3
   },
   "file_extension": ".py",
   "mimetype": "text/x-python",
   "name": "python",
   "nbconvert_exporter": "python",
   "pygments_lexer": "ipython3",
   "version": "3.8.12"
  }
 },
 "nbformat": 4,
 "nbformat_minor": 5
}
