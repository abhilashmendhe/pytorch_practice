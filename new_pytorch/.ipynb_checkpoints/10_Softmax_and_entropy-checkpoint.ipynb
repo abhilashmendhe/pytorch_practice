{
 "cells": [
  {
   "cell_type": "code",
   "execution_count": 1,
   "id": "41db0d1f",
   "metadata": {},
   "outputs": [],
   "source": [
    "import torch\n",
    "import torch.nn as nn\n",
    "import numpy as np"
   ]
  },
  {
   "cell_type": "code",
   "execution_count": 2,
   "id": "16e9d000",
   "metadata": {},
   "outputs": [],
   "source": [
    "def softmax(x):\n",
    "    return np.exp(x) / np.sum(np.exp(x), axis=0)"
   ]
  },
  {
   "cell_type": "code",
   "execution_count": 5,
   "id": "0ff6561f",
   "metadata": {},
   "outputs": [
    {
     "name": "stdout",
     "output_type": "stream",
     "text": [
      "Softmax numpy:  [0.65900114 0.24243297 0.09856589]\n",
      "1.0\n"
     ]
    }
   ],
   "source": [
    "x = np.array([2.0, 1.0, 0.1])\n",
    "outputs = softmax(x)\n",
    "print(\"Softmax numpy: \", outputs)\n",
    "print(np.sum(outputs))"
   ]
  },
  {
   "cell_type": "code",
   "execution_count": 6,
   "id": "7af4cfdc",
   "metadata": {},
   "outputs": [
    {
     "name": "stdout",
     "output_type": "stream",
     "text": [
      "tensor([0.6590, 0.2424, 0.0986])\n"
     ]
    }
   ],
   "source": [
    "x = torch.tensor([2.0, 1.0, .1])\n",
    "outputs = torch.softmax(x, dim=0)\n",
    "print(outputs)"
   ]
  },
  {
   "cell_type": "code",
   "execution_count": 16,
   "id": "fb081ce8",
   "metadata": {},
   "outputs": [],
   "source": [
    "# cross entropy in numpy"
   ]
  },
  {
   "cell_type": "code",
   "execution_count": 17,
   "id": "d959abe7",
   "metadata": {},
   "outputs": [
    {
     "name": "stdout",
     "output_type": "stream",
     "text": [
      "Loss1 numpy: 2.3026\n",
      "Loss1 numpy: 0.5108\n"
     ]
    }
   ],
   "source": [
    "def cross_entropy(actual, predicted):\n",
    "    loss = -np.sum(actual * np.log(predicted))\n",
    "    return loss\n",
    "\n",
    "# Y must be hot encoded\n",
    "Y = np.array([0,0,1])\n",
    "\n",
    "# y_pred has probabilites\n",
    "Y_pred_good = np.array([.7, .2, .1])\n",
    "Y_pred_bad  = np.array([.1, .2, .6])\n",
    "l1 = cross_entropy(Y, Y_pred_good)\n",
    "l2 = cross_entropy(Y, Y_pred_bad)\n",
    "\n",
    "print(f'Loss1 numpy: {l1:.4f}')\n",
    "print(f'Loss1 numpy: {l2:.4f}')"
   ]
  },
  {
   "cell_type": "code",
   "execution_count": 18,
   "id": "1b558a8e",
   "metadata": {},
   "outputs": [],
   "source": [
    "# cross entropy in torch"
   ]
  },
  {
   "cell_type": "code",
   "execution_count": 24,
   "id": "a821d89a",
   "metadata": {},
   "outputs": [
    {
     "name": "stdout",
     "output_type": "stream",
     "text": [
      "0.3018244206905365\n",
      "1.7338258028030396\n",
      "tensor([2, 0, 1])\n",
      "tensor([0, 2, 1])\n"
     ]
    }
   ],
   "source": [
    "loss = nn.CrossEntropyLoss()\n",
    "\n",
    "# 3 samples or classes\n",
    "Y = torch.tensor([2, 0, 1])\n",
    "\n",
    "# no. of samples * no. of classes = 3 x 3\n",
    "Y_pred_good = torch.tensor([[0.1, 1.0, 2.1], [2.0, 1.0, 0.1], [0.1, 3.0, 0.1]])\n",
    "Y_pred_bad  = torch.tensor([[2.1, 2.0, 0.1], [0.1, 1.0, 2.1], [0.1, 3.0, 0.1]])\n",
    "\n",
    "l1 = loss(Y_pred_good, Y)\n",
    "l2 = loss(Y_pred_bad, Y)\n",
    "\n",
    "print(l1.item())\n",
    "print(l2.item())\n",
    "\n",
    "_, predictions1 = torch.max(Y_pred_good, 1)\n",
    "_, predictions2 = torch.max(Y_pred_bad, 1)\n",
    "\n",
    "print(predictions1)\n",
    "print(predictions2)"
   ]
  },
  {
   "cell_type": "code",
   "execution_count": null,
   "id": "4e2f5123",
   "metadata": {},
   "outputs": [],
   "source": []
  }
 ],
 "metadata": {
  "kernelspec": {
   "display_name": "Python 3 (ipykernel)",
   "language": "python",
   "name": "python3"
  },
  "language_info": {
   "codemirror_mode": {
    "name": "ipython",
    "version": 3
   },
   "file_extension": ".py",
   "mimetype": "text/x-python",
   "name": "python",
   "nbconvert_exporter": "python",
   "pygments_lexer": "ipython3",
   "version": "3.8.12"
  }
 },
 "nbformat": 4,
 "nbformat_minor": 5
}
