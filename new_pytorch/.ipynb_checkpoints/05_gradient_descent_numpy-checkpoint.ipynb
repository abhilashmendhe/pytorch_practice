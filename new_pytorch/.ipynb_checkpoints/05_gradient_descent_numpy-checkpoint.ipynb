{
 "cells": [
  {
   "cell_type": "code",
   "execution_count": 1,
   "id": "588f89ff",
   "metadata": {},
   "outputs": [],
   "source": [
    "# - Prediction: PyTorch model\n",
    "# - Gradients Computation: Autograd \n",
    "# - Loss Computation: Pytorch Loss\n",
    "# - Parameter updates: Pytorch Optimizer"
   ]
  },
  {
   "cell_type": "code",
   "execution_count": 2,
   "id": "ad691514",
   "metadata": {},
   "outputs": [],
   "source": [
    "import numpy as np\n",
    "# import torch"
   ]
  },
  {
   "cell_type": "code",
   "execution_count": null,
   "id": "4aa0de2e",
   "metadata": {},
   "outputs": [],
   "source": [
    "# f = w * x\n",
    "\n",
    "# f = 2 * x , w = 2\n",
    "X = np.array([1,2,3,4], dtype=np.float32)\n",
    "Y = np.array([2,4,6,8], dtype=np.float32)\n",
    "\n",
    "w = 0.0\n",
    "\n",
    "# model prediction\n",
    "def forward(x):\n",
    "    return w * x\n",
    "\n",
    "# loss\n",
    "def loss(y, y_pred):\n",
    "    return ((y - ypred)**2).mean()\n",
    "\n",
    "# gradient\n",
    "# MSE = 1/N * (w*x - y)**2\n",
    "# dj/dw = 1/N * 2 * x * (w*x - y)\n"
   ]
  }
 ],
 "metadata": {
  "kernelspec": {
   "display_name": "Python 3 (ipykernel)",
   "language": "python",
   "name": "python3"
  },
  "language_info": {
   "codemirror_mode": {
    "name": "ipython",
    "version": 3
   },
   "file_extension": ".py",
   "mimetype": "text/x-python",
   "name": "python",
   "nbconvert_exporter": "python",
   "pygments_lexer": "ipython3",
   "version": "3.8.12"
  }
 },
 "nbformat": 4,
 "nbformat_minor": 5
}
